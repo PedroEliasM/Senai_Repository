{
 "cells": [
  {
   "cell_type": "code",
   "execution_count": 58,
   "metadata": {},
   "outputs": [
    {
     "data": {
      "text/html": [
       "<div>\n",
       "<style scoped>\n",
       "    .dataframe tbody tr th:only-of-type {\n",
       "        vertical-align: middle;\n",
       "    }\n",
       "\n",
       "    .dataframe tbody tr th {\n",
       "        vertical-align: top;\n",
       "    }\n",
       "\n",
       "    .dataframe thead th {\n",
       "        text-align: right;\n",
       "    }\n",
       "</style>\n",
       "<table border=\"1\" class=\"dataframe\">\n",
       "  <thead>\n",
       "    <tr style=\"text-align: right;\">\n",
       "      <th></th>\n",
       "      <th>Produto</th>\n",
       "      <th>Categoria</th>\n",
       "      <th>Preço</th>\n",
       "      <th>Quantidade_Estoque</th>\n",
       "    </tr>\n",
       "  </thead>\n",
       "  <tbody>\n",
       "    <tr>\n",
       "      <th>0</th>\n",
       "      <td>Produto_1</td>\n",
       "      <td>Tablet</td>\n",
       "      <td>1509.84</td>\n",
       "      <td>48</td>\n",
       "    </tr>\n",
       "    <tr>\n",
       "      <th>1</th>\n",
       "      <td>Produto_2</td>\n",
       "      <td>Computador</td>\n",
       "      <td>603.86</td>\n",
       "      <td>2</td>\n",
       "    </tr>\n",
       "    <tr>\n",
       "      <th>2</th>\n",
       "      <td>Produto_3</td>\n",
       "      <td>Televisão</td>\n",
       "      <td>916.33</td>\n",
       "      <td>43</td>\n",
       "    </tr>\n",
       "    <tr>\n",
       "      <th>3</th>\n",
       "      <td>Produto_4</td>\n",
       "      <td>Computador</td>\n",
       "      <td>486.52</td>\n",
       "      <td>12</td>\n",
       "    </tr>\n",
       "    <tr>\n",
       "      <th>4</th>\n",
       "      <td>Produto_5</td>\n",
       "      <td>Impressora</td>\n",
       "      <td>480.68</td>\n",
       "      <td>42</td>\n",
       "    </tr>\n",
       "  </tbody>\n",
       "</table>\n",
       "</div>"
      ],
      "text/plain": [
       "     Produto   Categoria    Preço  Quantidade_Estoque\n",
       "0  Produto_1      Tablet  1509.84                  48\n",
       "1  Produto_2  Computador   603.86                   2\n",
       "2  Produto_3   Televisão   916.33                  43\n",
       "3  Produto_4  Computador   486.52                  12\n",
       "4  Produto_5  Impressora   480.68                  42"
      ]
     },
     "execution_count": 58,
     "metadata": {},
     "output_type": "execute_result"
    }
   ],
   "source": [
    "import pandas as pd\n",
    "import openpyxl\n",
    "import numpy as np\n",
    "\n",
    "num_rows = 50\n",
    "\n",
    "data = {\n",
    "    'Produto': [f'Produto_{i}' for i in range(1, num_rows + 1)],\n",
    "    'Categoria': np.random.choice(['Televisão', 'Computador', 'Tablet', 'Impressora'], size = num_rows),\n",
    "    'Preço': np.random.uniform(100.0, 2000.0, size = num_rows).round(2),\n",
    "    'Quantidade_Estoque': np.random.randint(1, 50, size = num_rows)\n",
    "}\n",
    "\n",
    "df = pd.DataFrame(data)\n",
    "df.head()"
   ]
  },
  {
   "cell_type": "code",
   "execution_count": null,
   "metadata": {},
   "outputs": [],
   "source": [
    "df['Quantidade_Vendida'] = np.random.randint(1, df['Quantidade_Estoque'], size=num_rows)\n",
    "\n",
    "df['Lucro'] = df['Preço'] * df['Quantidade_Vendida']\n",
    "\n",
    "print(df.head())"
   ]
  },
  {
   "cell_type": "code",
   "execution_count": null,
   "metadata": {},
   "outputs": [],
   "source": [
    "def calcular_valor_total(row):\n",
    "\n",
    "    return row['Preço'] * row['Quantidade_Vendida']\n",
    "\n",
    "data = { \n",
    "    'Produto':[f'Produto_{i}' for i in range(1,num_rows + 1)],\n",
    "    'Categoria': np.random.choice(['Televisão', 'Computador', 'Celular','Tablet','Impreossora'], size=num_rows),\n",
    "    'Preço': np.random.uniform(100.0, 2000.0, size=num_rows).round(2),\n",
    "    'Quantidade_Estoque': np.random.randint(1, 50, size=num_rows)}\n",
    "\n",
    "df['Quantidade_Vendida'] = np.random.randint(1, df['Quantidade_Estoque'], size=num_rows)\n",
    "\n",
    "\n",
    "df['Lucro'] = df['Preço'] * df['Quantidade_Vendida']\n",
    "\n",
    "\n",
    "df['Lucro'] = df.apply(calcular_valor_total, axis=1)\n",
    "\n",
    "print(df.head())   \n",
    "print(df['Lucro'].describe())"
   ]
  },
  {
   "cell_type": "code",
   "execution_count": null,
   "metadata": {},
   "outputs": [],
   "source": [
    "df_filtro_computador = df[df['Categoria'] == 'Computador']\n",
    "print(df_filtro_computador)"
   ]
  },
  {
   "cell_type": "code",
   "execution_count": null,
   "metadata": {},
   "outputs": [],
   "source": [
    "computadores_500 = df[(df['Preço'] > 500) & (df['Categoria'] == 'Computador')]\n",
    "print(computadores_500)"
   ]
  },
  {
   "cell_type": "code",
   "execution_count": null,
   "metadata": {},
   "outputs": [],
   "source": [
    "impressoras_40 = df[(df['Quantidade_Estoque'] > 40) | (df['Categoria'] == 'Impressora')]\n",
    "print(impressoras_40)"
   ]
  },
  {
   "cell_type": "code",
   "execution_count": 70,
   "metadata": {},
   "outputs": [],
   "source": [
    "# export\n",
    "caminho_arquivo = r'C:\\Users\\pedro_e_possamai\\Desktop\\VsCode-Codes\\pandas - Library\\arquivo_excel.xlsx'\n",
    "df.to_excel(caminho_arquivo)"
   ]
  }
 ],
 "metadata": {
  "interpreter": {
   "hash": "ac59ebe37160ed0dfa835113d9b8498d9f09ceb179beaac4002f036b9467c963"
  },
  "kernelspec": {
   "display_name": "Python 3.9.7 64-bit (system)",
   "language": "python",
   "name": "python3"
  },
  "language_info": {
   "codemirror_mode": {
    "name": "ipython",
    "version": 3
   },
   "file_extension": ".py",
   "mimetype": "text/x-python",
   "name": "python",
   "nbconvert_exporter": "python",
   "pygments_lexer": "ipython3",
   "version": "3.9.7"
  },
  "orig_nbformat": 4
 },
 "nbformat": 4,
 "nbformat_minor": 2
}
